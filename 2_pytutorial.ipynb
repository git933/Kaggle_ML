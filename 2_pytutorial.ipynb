{
  "nbformat": 4,
  "nbformat_minor": 0,
  "metadata": {
    "colab": {
      "name": "2_pytutorial.ipynb",
      "provenance": [],
      "collapsed_sections": [],
      "authorship_tag": "ABX9TyNIGITXToTM/OgJLBoS6AD1",
      "include_colab_link": true
    },
    "kernelspec": {
      "name": "python3",
      "display_name": "Python 3"
    },
    "language_info": {
      "name": "python"
    }
  },
  "cells": [
    {
      "cell_type": "markdown",
      "metadata": {
        "id": "view-in-github",
        "colab_type": "text"
      },
      "source": [
        "<a href=\"https://colab.research.google.com/github/git933/Kaggle_ML/blob/main/2_pytutorial.ipynb\" target=\"_parent\"><img src=\"https://colab.research.google.com/assets/colab-badge.svg\" alt=\"Open In Colab\"/></a>"
      ]
    },
    {
      "cell_type": "code",
      "metadata": {
        "colab": {
          "base_uri": "https://localhost:8080/"
        },
        "id": "HusiOBZTMQNL",
        "outputId": "20cea383-ed50-43bb-d11d-5ae748999ee9"
      },
      "source": [
        "spam_amount = 0 # variable assignment\n",
        "print(spam_amount)\n",
        "\n",
        "spam_amount = spam_amount + 4\n",
        "if spam_amount > 0:\n",
        "  print(\"But I don't want ANY spam!\")\n",
        "\n",
        "viking_song = \"Spam \" * spam_amount # arithmetic\n",
        "print(viking_song)"
      ],
      "execution_count": null,
      "outputs": [
        {
          "output_type": "stream",
          "text": [
            "0\n",
            "But I don't want ANY spam!\n",
            "Spam Spam Spam Spam \n"
          ],
          "name": "stdout"
        }
      ]
    },
    {
      "cell_type": "code",
      "metadata": {
        "colab": {
          "base_uri": "https://localhost:8080/"
        },
        "id": "yo_CILDFNYeq",
        "outputId": "a89b69fa-c493-4e0c-d94b-c350d3654fa9"
      },
      "source": [
        "type(spam_amount)"
      ],
      "execution_count": null,
      "outputs": [
        {
          "output_type": "execute_result",
          "data": {
            "text/plain": [
              "int"
            ]
          },
          "metadata": {
            "tags": []
          },
          "execution_count": 2
        }
      ]
    },
    {
      "cell_type": "code",
      "metadata": {
        "colab": {
          "base_uri": "https://localhost:8080/"
        },
        "id": "r1FcKft4Na59",
        "outputId": "b32ca248-4e72-4e86-ae35-3c19a662fbd3"
      },
      "source": [
        "type(19.95)"
      ],
      "execution_count": null,
      "outputs": [
        {
          "output_type": "execute_result",
          "data": {
            "text/plain": [
              "float"
            ]
          },
          "metadata": {
            "tags": []
          },
          "execution_count": 3
        }
      ]
    },
    {
      "cell_type": "markdown",
      "metadata": {
        "id": "sfjgLwRNPLt8"
      },
      "source": [
        "# Numbers and arithmetic in python"
      ]
    },
    {
      "cell_type": "markdown",
      "metadata": {
        "id": "gAE32mWjN-3S"
      },
      "source": [
        "\n",
        "\n",
        "---\n",
        "\n",
        "\n",
        "a + b : sum\n",
        "\n",
        "a - b : subtraction\n",
        "\n",
        "a * b : multiplication\n",
        "\n",
        "a / b : quotient\n",
        "\n",
        "a // b : quotient (removing fractional parts)\n",
        "\n",
        "a % b : modulus\n",
        "\n",
        "a ** b : exponentiation\n",
        "\n",
        "-a : negative of a\n",
        "\n",
        "---\n",
        "\n"
      ]
    },
    {
      "cell_type": "code",
      "metadata": {
        "colab": {
          "base_uri": "https://localhost:8080/"
        },
        "id": "GMs3b2x_OS4N",
        "outputId": "a5a2cfc2-2fc7-4e9c-bfc6-27158632b1a1"
      },
      "source": [
        "print(5 / 2)\n",
        "print(6 / 2)"
      ],
      "execution_count": null,
      "outputs": [
        {
          "output_type": "stream",
          "text": [
            "2.5\n",
            "3.0\n"
          ],
          "name": "stdout"
        }
      ]
    },
    {
      "cell_type": "code",
      "metadata": {
        "colab": {
          "base_uri": "https://localhost:8080/"
        },
        "id": "iRv9KgcJOZ0s",
        "outputId": "8cf282c2-f99b-4056-d4f5-e81ca1a7e403"
      },
      "source": [
        "print(5 // 2)\n",
        "print(6 // 2)"
      ],
      "execution_count": null,
      "outputs": [
        {
          "output_type": "stream",
          "text": [
            "2\n",
            "3\n"
          ],
          "name": "stdout"
        }
      ]
    },
    {
      "cell_type": "markdown",
      "metadata": {
        "id": "r2ZJQkbmPVpA"
      },
      "source": [
        "# Order of operations"
      ]
    },
    {
      "cell_type": "code",
      "metadata": {
        "colab": {
          "base_uri": "https://localhost:8080/"
        },
        "id": "rZZI32Z3Ojxn",
        "outputId": "9ba7885c-fda8-481c-d578-6bd2ff86103f"
      },
      "source": [
        "8 - 3 + 2"
      ],
      "execution_count": null,
      "outputs": [
        {
          "output_type": "execute_result",
          "data": {
            "text/plain": [
              "7"
            ]
          },
          "metadata": {
            "tags": []
          },
          "execution_count": 6
        }
      ]
    },
    {
      "cell_type": "code",
      "metadata": {
        "colab": {
          "base_uri": "https://localhost:8080/"
        },
        "id": "sr3VHcHQOlB4",
        "outputId": "57b8bcef-51a6-4219-ccc0-7dab234eb2ab"
      },
      "source": [
        "-3 + 4 * 2"
      ],
      "execution_count": null,
      "outputs": [
        {
          "output_type": "execute_result",
          "data": {
            "text/plain": [
              "5"
            ]
          },
          "metadata": {
            "tags": []
          },
          "execution_count": 7
        }
      ]
    },
    {
      "cell_type": "code",
      "metadata": {
        "colab": {
          "base_uri": "https://localhost:8080/"
        },
        "id": "GMyT07U9OnuY",
        "outputId": "68fb0ed9-630e-40c0-b195-fd645239eae8"
      },
      "source": [
        "hat_height_cm = 25\n",
        "my_height_cm = 190\n",
        "\n",
        "total_height_meters = hat_height_cm + my_height_cm / 100\n",
        "print(\"Height in meters = \", total_height_meters, \"?\")"
      ],
      "execution_count": null,
      "outputs": [
        {
          "output_type": "stream",
          "text": [
            "Height in meters =  26.9 ?\n"
          ],
          "name": "stdout"
        }
      ]
    },
    {
      "cell_type": "markdown",
      "metadata": {
        "id": "-Hnw966xO3jg"
      },
      "source": [
        "parentheses = 괄호"
      ]
    },
    {
      "cell_type": "code",
      "metadata": {
        "colab": {
          "base_uri": "https://localhost:8080/"
        },
        "id": "UU_ytqIaO5Lt",
        "outputId": "14988b6c-82f6-415f-f8a6-4d6131729095"
      },
      "source": [
        "total_height_meters = (hat_height_cm + my_height_cm) / 100\n",
        "print(\"Height in meters = \", total_height_meters)"
      ],
      "execution_count": null,
      "outputs": [
        {
          "output_type": "stream",
          "text": [
            "Height in meters =  2.15\n"
          ],
          "name": "stdout"
        }
      ]
    },
    {
      "cell_type": "markdown",
      "metadata": {
        "id": "HOjrob3uPZ36"
      },
      "source": [
        "# Builtin functions"
      ]
    },
    {
      "cell_type": "code",
      "metadata": {
        "colab": {
          "base_uri": "https://localhost:8080/"
        },
        "id": "-SVXwUsgPdHX",
        "outputId": "924c81b7-9a8f-4bf3-f6b7-89292688f184"
      },
      "source": [
        "print(min(1, 2, 3))\n",
        "print(max(1, 2, 3))"
      ],
      "execution_count": null,
      "outputs": [
        {
          "output_type": "stream",
          "text": [
            "1\n",
            "3\n"
          ],
          "name": "stdout"
        }
      ]
    },
    {
      "cell_type": "code",
      "metadata": {
        "colab": {
          "base_uri": "https://localhost:8080/"
        },
        "id": "t4MyFTXXPgbs",
        "outputId": "8ad047f0-358a-4230-c3dd-7f3a68bfb758"
      },
      "source": [
        "print(abs(32))\n",
        "print(abs(-32))"
      ],
      "execution_count": null,
      "outputs": [
        {
          "output_type": "stream",
          "text": [
            "32\n",
            "32\n"
          ],
          "name": "stdout"
        }
      ]
    },
    {
      "cell_type": "code",
      "metadata": {
        "colab": {
          "base_uri": "https://localhost:8080/"
        },
        "id": "fmCFUIznPmGL",
        "outputId": "574eb864-9299-41bd-b4cc-19362e21716e"
      },
      "source": [
        "print(float(10))\n",
        "print(int(3.33))\n",
        "print(int('807') + 1)"
      ],
      "execution_count": null,
      "outputs": [
        {
          "output_type": "stream",
          "text": [
            "10.0\n",
            "3\n",
            "808\n"
          ],
          "name": "stdout"
        }
      ]
    },
    {
      "cell_type": "markdown",
      "metadata": {
        "id": "eNiwKWJ2QAwr"
      },
      "source": [
        "\n",
        "\n",
        "---\n",
        "\n"
      ]
    },
    {
      "cell_type": "markdown",
      "metadata": {
        "id": "VBCPe5riRT71"
      },
      "source": [
        "# Exercise : syntax, variables, and numbers"
      ]
    },
    {
      "cell_type": "markdown",
      "metadata": {
        "id": "IV28fjelRXZs"
      },
      "source": [
        "q0"
      ]
    },
    {
      "cell_type": "code",
      "metadata": {
        "colab": {
          "base_uri": "https://localhost:8080/"
        },
        "id": "F5iNEaTARYhp",
        "outputId": "dca60955-1af2-4def-fe01-6e0577e13359"
      },
      "source": [
        "color = \"blue\"\n",
        "\n",
        "if color == \"blue\":\n",
        "  print(\"Correct\")"
      ],
      "execution_count": null,
      "outputs": [
        {
          "output_type": "stream",
          "text": [
            "Correct\n"
          ],
          "name": "stdout"
        }
      ]
    },
    {
      "cell_type": "markdown",
      "metadata": {
        "id": "RSO5wG2PRdPZ"
      },
      "source": [
        "q1"
      ]
    },
    {
      "cell_type": "code",
      "metadata": {
        "colab": {
          "base_uri": "https://localhost:8080/"
        },
        "id": "v0ZW20iGRdsV",
        "outputId": "7f5f87e3-3c44-4582-d635-a1d5673d4ad7"
      },
      "source": [
        "pi = 3.14159  # approximate\n",
        "diameter = 3\n",
        "\n",
        "radius = diameter / 2\n",
        "area = pi * (radius ** 2)\n",
        "\n",
        "print(\"radius : \", radius)\n",
        "print(\"area : \", area)"
      ],
      "execution_count": null,
      "outputs": [
        {
          "output_type": "stream",
          "text": [
            "radius :  1.5\n",
            "area :  7.0685775\n"
          ],
          "name": "stdout"
        }
      ]
    },
    {
      "cell_type": "markdown",
      "metadata": {
        "id": "QmIV4JShR-On"
      },
      "source": [
        "q2"
      ]
    },
    {
      "cell_type": "code",
      "metadata": {
        "colab": {
          "base_uri": "https://localhost:8080/"
        },
        "id": "T1-UVWF2R-rY",
        "outputId": "51bfc773-2ec5-46e7-ca15-4da48ca86ccb"
      },
      "source": [
        "a = [1, 2, 3]\n",
        "b = [3, 2, 1]\n",
        "temp = []\n",
        "\n",
        "temp = a\n",
        "a = b\n",
        "b = temp\n",
        "\n",
        "print(\"a = \", a)\n",
        "print(\"b = \", b)"
      ],
      "execution_count": null,
      "outputs": [
        {
          "output_type": "stream",
          "text": [
            "a =  [3, 2, 1]\n",
            "b =  [1, 2, 3]\n"
          ],
          "name": "stdout"
        }
      ]
    },
    {
      "cell_type": "code",
      "metadata": {
        "colab": {
          "base_uri": "https://localhost:8080/"
        },
        "id": "mvfBXdeFSpMY",
        "outputId": "bfa8e42e-0960-44f4-f904-04cfd1f6807f"
      },
      "source": [
        "a = [1, 2, 3]\n",
        "b = [3, 2, 1]\n",
        "\n",
        "a, b = b, a\n",
        "\n",
        "print(\"a = \", a)\n",
        "print(\"b = \", b)"
      ],
      "execution_count": null,
      "outputs": [
        {
          "output_type": "stream",
          "text": [
            "a =  [3, 2, 1]\n",
            "b =  [1, 2, 3]\n"
          ],
          "name": "stdout"
        }
      ]
    },
    {
      "cell_type": "markdown",
      "metadata": {
        "id": "tnz_kxx0Sw0A"
      },
      "source": [
        "q3a"
      ]
    },
    {
      "cell_type": "code",
      "metadata": {
        "colab": {
          "base_uri": "https://localhost:8080/"
        },
        "id": "4rdTfnamSxg4",
        "outputId": "818862d0-a798-4da6-b2a6-018ef519e959"
      },
      "source": [
        "(5 - 3) // 2"
      ],
      "execution_count": null,
      "outputs": [
        {
          "output_type": "execute_result",
          "data": {
            "text/plain": [
              "1"
            ]
          },
          "metadata": {
            "tags": []
          },
          "execution_count": 24
        }
      ]
    },
    {
      "cell_type": "markdown",
      "metadata": {
        "id": "Jdl9_JNHTHSe"
      },
      "source": [
        "q3b"
      ]
    },
    {
      "cell_type": "code",
      "metadata": {
        "colab": {
          "base_uri": "https://localhost:8080/"
        },
        "id": "fBo33ZV7TH6d",
        "outputId": "7a068e72-5029-40e5-f591-e0c0d54ef34a"
      },
      "source": [
        "8 - 3 * 2 - (1 + 1)"
      ],
      "execution_count": null,
      "outputs": [
        {
          "output_type": "execute_result",
          "data": {
            "text/plain": [
              "0"
            ]
          },
          "metadata": {
            "tags": []
          },
          "execution_count": 25
        }
      ]
    },
    {
      "cell_type": "code",
      "metadata": {
        "colab": {
          "base_uri": "https://localhost:8080/"
        },
        "id": "uIJgy1xZTZZW",
        "outputId": "36364a48-eaa7-44dc-ab31-b8425476aafe"
      },
      "source": [
        "(8 - 3) * (2 - (1 + 1))"
      ],
      "execution_count": null,
      "outputs": [
        {
          "output_type": "execute_result",
          "data": {
            "text/plain": [
              "0"
            ]
          },
          "metadata": {
            "tags": []
          },
          "execution_count": 26
        }
      ]
    },
    {
      "cell_type": "markdown",
      "metadata": {
        "id": "5WnW1cS8Tcwv"
      },
      "source": [
        "q4"
      ]
    },
    {
      "cell_type": "code",
      "metadata": {
        "id": "QseAwuanTdNk",
        "colab": {
          "base_uri": "https://localhost:8080/"
        },
        "outputId": "a5cb0ee3-422a-477a-c8da-3c7869ebe6e5"
      },
      "source": [
        "3alice_candies = 121\n",
        "bob_candies = 77\n",
        "carol_candies = 109\n",
        "\n",
        "to_smash = -1\n",
        "\n",
        "to_smash = (alice_candies + bob_candies + carol_candies) % 3\n",
        "print(to_smash)"
      ],
      "execution_count": null,
      "outputs": [
        {
          "output_type": "stream",
          "text": [
            "1\n"
          ],
          "name": "stdout"
        }
      ]
    }
  ]
}