{
  "nbformat": 4,
  "nbformat_minor": 0,
  "metadata": {
    "colab": {
      "name": "4_booleans.ipynb",
      "provenance": [],
      "collapsed_sections": [],
      "authorship_tag": "ABX9TyPAwc7eZiEl6YlCJVLSRlWv",
      "include_colab_link": true
    },
    "kernelspec": {
      "name": "python3",
      "display_name": "Python 3"
    },
    "language_info": {
      "name": "python"
    }
  },
  "cells": [
    {
      "cell_type": "markdown",
      "metadata": {
        "id": "view-in-github",
        "colab_type": "text"
      },
      "source": [
        "<a href=\"https://colab.research.google.com/github/git933/Kaggle_ML/blob/main/4_booleans.ipynb\" target=\"_parent\"><img src=\"https://colab.research.google.com/assets/colab-badge.svg\" alt=\"Open In Colab\"/></a>"
      ]
    },
    {
      "cell_type": "markdown",
      "metadata": {
        "id": "jRfKCFQTJkN3"
      },
      "source": [
        "# booleans"
      ]
    },
    {
      "cell_type": "code",
      "metadata": {
        "colab": {
          "base_uri": "https://localhost:8080/"
        },
        "id": "3UFDTOJtJifw",
        "outputId": "9df8b32e-00df-4301-82b6-ca7df5fdeef8"
      },
      "source": [
        "x = True\n",
        "print(x)\n",
        "print(type(x))"
      ],
      "execution_count": 1,
      "outputs": [
        {
          "output_type": "stream",
          "text": [
            "True\n",
            "<class 'bool'>\n"
          ],
          "name": "stdout"
        }
      ]
    },
    {
      "cell_type": "markdown",
      "metadata": {
        "id": "jWF34mYA3JAS"
      },
      "source": [
        "\n",
        "\n",
        "---\n",
        "\n"
      ]
    },
    {
      "cell_type": "markdown",
      "metadata": {
        "id": "D8_aAZ3x3HjX"
      },
      "source": [
        "# comparison operations"
      ]
    },
    {
      "cell_type": "code",
      "metadata": {
        "colab": {
          "base_uri": "https://localhost:8080/"
        },
        "id": "GznT56rn3J4s",
        "outputId": "fd0662de-44f9-45f2-839e-1596069eb11a"
      },
      "source": [
        "def can_run_for_president(age):\n",
        "  \"\"\"Can someone of the given age run for president in the US?\"\"\"\n",
        "  # The US Constitution says you must be at least 35 years old\n",
        "  return age >= 35\n",
        "\n",
        "print(\"Can a 19-year-old run for president?\", can_run_for_president(19))\n",
        "print(\"Can a 45-year-old run for president?\", can_run_for_president(45))"
      ],
      "execution_count": 2,
      "outputs": [
        {
          "output_type": "stream",
          "text": [
            "Can a 19-year-old run for president? False\n",
            "Can a 45-year-old run for president? True\n"
          ],
          "name": "stdout"
        }
      ]
    },
    {
      "cell_type": "code",
      "metadata": {
        "colab": {
          "base_uri": "https://localhost:8080/"
        },
        "id": "dRp88KsD3fkp",
        "outputId": "4b8276a2-fb76-4b94-c4df-3004e499a191"
      },
      "source": [
        "3.0 == 3"
      ],
      "execution_count": 3,
      "outputs": [
        {
          "output_type": "execute_result",
          "data": {
            "text/plain": [
              "True"
            ]
          },
          "metadata": {},
          "execution_count": 3
        }
      ]
    },
    {
      "cell_type": "code",
      "metadata": {
        "colab": {
          "base_uri": "https://localhost:8080/"
        },
        "id": "xbzN4PA83hD7",
        "outputId": "0d7e78e0-cd59-4057-a422-8443ab1aa930"
      },
      "source": [
        "'3' == 3"
      ],
      "execution_count": 4,
      "outputs": [
        {
          "output_type": "execute_result",
          "data": {
            "text/plain": [
              "False"
            ]
          },
          "metadata": {},
          "execution_count": 4
        }
      ]
    },
    {
      "cell_type": "code",
      "metadata": {
        "colab": {
          "base_uri": "https://localhost:8080/"
        },
        "id": "d_d4m-7S3kQG",
        "outputId": "d0d1f60e-933c-45f4-afde-10bcb2d1e0e1"
      },
      "source": [
        "def is_odd(n):\n",
        "  return (n % 2) == 1\n",
        "\n",
        "print(\"Is 100 odd?\", is_odd(100))\n",
        "print(\"Is -1 odd?\", is_odd(-1))"
      ],
      "execution_count": 5,
      "outputs": [
        {
          "output_type": "stream",
          "text": [
            "Is 100 odd? False\n",
            "Is -1 odd? True\n"
          ],
          "name": "stdout"
        }
      ]
    },
    {
      "cell_type": "markdown",
      "metadata": {
        "id": "8xZZya1x3uob"
      },
      "source": [
        "\n",
        "\n",
        "---\n",
        "\n"
      ]
    },
    {
      "cell_type": "markdown",
      "metadata": {
        "id": "GJ5k5r6_3vEr"
      },
      "source": [
        "# combining boolean values"
      ]
    },
    {
      "cell_type": "code",
      "metadata": {
        "colab": {
          "base_uri": "https://localhost:8080/"
        },
        "id": "whU3VrFw3yav",
        "outputId": "aeb1c4c3-abfb-48a2-9e7b-976c90ea3be9"
      },
      "source": [
        "def can_run_for_president(age, is_natural_born_citizen):\n",
        "\n",
        "  \"\"\"Can someone of the given age \n",
        "  and citizenship status\n",
        "  run for president in the US?\"\"\"\n",
        "\n",
        "  # The US Constitution says you must be a natural born citizen \n",
        "  # *and* at least 35 years old\n",
        "\n",
        "  return is_natural_born_citizen and (age >= 35)\n",
        "\n",
        "print(can_run_for_president(19, True))\n",
        "print(can_run_for_president(55, False))\n",
        "print(can_run_for_president(55, True))"
      ],
      "execution_count": 6,
      "outputs": [
        {
          "output_type": "stream",
          "text": [
            "False\n",
            "False\n",
            "True\n"
          ],
          "name": "stdout"
        }
      ]
    },
    {
      "cell_type": "code",
      "metadata": {
        "colab": {
          "base_uri": "https://localhost:8080/"
        },
        "id": "6oglNo0f4Q3n",
        "outputId": "0be895bb-2b9a-4fe3-802d-b9e29b70d651"
      },
      "source": [
        "True or True and False"
      ],
      "execution_count": 7,
      "outputs": [
        {
          "output_type": "execute_result",
          "data": {
            "text/plain": [
              "True"
            ]
          },
          "metadata": {},
          "execution_count": 7
        }
      ]
    },
    {
      "cell_type": "markdown",
      "metadata": {
        "id": "6kzHz2P54XE0"
      },
      "source": [
        "* **and** is evaluated before **or**"
      ]
    },
    {
      "cell_type": "code",
      "metadata": {
        "id": "e9vBID4F6Sv3"
      },
      "source": [
        "prepared_for_weather = (have_umbrella\n",
        "                        or ((rain_level < 5) and have_hood)\n",
        "                        or (not (rain_level > 0 and is_workday)))"
      ],
      "execution_count": null,
      "outputs": []
    },
    {
      "cell_type": "markdown",
      "metadata": {
        "id": "Umce3G2p6TVv"
      },
      "source": [
        "\n",
        "\n",
        "---\n",
        "\n"
      ]
    },
    {
      "cell_type": "markdown",
      "metadata": {
        "id": "IROleOB76T9x"
      },
      "source": [
        "# conditionals"
      ]
    },
    {
      "cell_type": "code",
      "metadata": {
        "colab": {
          "base_uri": "https://localhost:8080/"
        },
        "id": "y_bvg8tU6V5Z",
        "outputId": "e044bfe0-5acb-488b-96fe-f84c6b1bcf5d"
      },
      "source": [
        "def inspect(x):\n",
        "  if x == 0:\n",
        "    print(x, \"is zero\")\n",
        "  elif x > 0:\n",
        "    print(x, \"is positive\")\n",
        "  elif x < 0:\n",
        "    print(x, \"is negative\")\n",
        "  else:\n",
        "    print(x, \"is unlike anything I've ever seen...\")\n",
        "  \n",
        "inspect(0)\n",
        "inspect(-15)"
      ],
      "execution_count": 9,
      "outputs": [
        {
          "output_type": "stream",
          "text": [
            "0 is zero\n",
            "-15 is negative\n"
          ],
          "name": "stdout"
        }
      ]
    },
    {
      "cell_type": "code",
      "metadata": {
        "colab": {
          "base_uri": "https://localhost:8080/"
        },
        "id": "oBMQK2qD6pqR",
        "outputId": "b83a5890-c182-493a-e4f4-304889c57975"
      },
      "source": [
        "def f(x):\n",
        "  if x > 0:\n",
        "    print(\"Only printed when x is positive; x = \", x)\n",
        "    print(\"Also only printed when x is positive; x = \", x)\n",
        "  print(\"Always printed, regardless of x's value; x = \", x)\n",
        "\n",
        "f(1)\n",
        "f(0)"
      ],
      "execution_count": 11,
      "outputs": [
        {
          "output_type": "stream",
          "text": [
            "Only printed when x is positive; x =  1\n",
            "Also only printed when x is positive; x =  1\n",
            "Always printed, regardless of x's value; x =  1\n",
            "Always printed, regardless of x's value; x =  0\n"
          ],
          "name": "stdout"
        }
      ]
    },
    {
      "cell_type": "markdown",
      "metadata": {
        "id": "RsUA2k9b66fx"
      },
      "source": [
        "\n",
        "\n",
        "---\n",
        "\n"
      ]
    },
    {
      "cell_type": "markdown",
      "metadata": {
        "id": "qqq6bHew6643"
      },
      "source": [
        "# boolean conversion"
      ]
    },
    {
      "cell_type": "code",
      "metadata": {
        "colab": {
          "base_uri": "https://localhost:8080/"
        },
        "id": "sd_x_q6O68J4",
        "outputId": "9e5f5c7f-4ce7-47d5-d77b-3491f6b4c243"
      },
      "source": [
        "print(bool(1))  # all numbers are treated as True\n",
        "print(bool(0))  # except 0\n",
        "\n",
        "print(bool(\"asf\"))  # all strings are treated as True\n",
        "print(bool(\"\")) # except the empty string"
      ],
      "execution_count": 12,
      "outputs": [
        {
          "output_type": "stream",
          "text": [
            "True\n",
            "False\n",
            "True\n",
            "False\n"
          ],
          "name": "stdout"
        }
      ]
    },
    {
      "cell_type": "code",
      "metadata": {
        "colab": {
          "base_uri": "https://localhost:8080/"
        },
        "id": "Rvog3ZDN7Rsz",
        "outputId": "0846442c-aa6f-4394-8c87-332618e4dceb"
      },
      "source": [
        "if 0:\n",
        "  print(0)\n",
        "elif \"spam\":\n",
        "  print(\"spam\")"
      ],
      "execution_count": 13,
      "outputs": [
        {
          "output_type": "stream",
          "text": [
            "spam\n"
          ],
          "name": "stdout"
        }
      ]
    },
    {
      "cell_type": "markdown",
      "metadata": {
        "id": "cIsKUa7k7Wxw"
      },
      "source": [
        "\n",
        "\n",
        "---\n",
        "\n"
      ]
    },
    {
      "cell_type": "markdown",
      "metadata": {
        "id": "kOcBpDPS7XSY"
      },
      "source": [
        "# exercise"
      ]
    },
    {
      "cell_type": "markdown",
      "metadata": {
        "id": "dmLZWOo47Y1n"
      },
      "source": [
        "1"
      ]
    },
    {
      "cell_type": "code",
      "metadata": {
        "id": "OwSsmhVO7plS"
      },
      "source": [
        "def sign(x):\n",
        "    if x < 0:\n",
        "        return -1\n",
        "    elif x > 0:\n",
        "        return 1\n",
        "    else:\n",
        "        return 0"
      ],
      "execution_count": 14,
      "outputs": []
    },
    {
      "cell_type": "markdown",
      "metadata": {
        "id": "a5S8gW-_O7xN"
      },
      "source": [
        "2"
      ]
    },
    {
      "cell_type": "code",
      "metadata": {
        "id": "u-FXgiaEO8OQ"
      },
      "source": [
        "def to_smash(total_candies):\n",
        "  if total_candies == 1:\n",
        "    print(\"Splitting 1 candy\")\n",
        "  else:\n",
        "    print(\"Splitting\", total_candies, \"candies\")"
      ],
      "execution_count": 15,
      "outputs": []
    },
    {
      "cell_type": "code",
      "metadata": {
        "id": "nmiqGILfPhd3"
      },
      "source": [
        "def to_smash(total_candies):\n",
        "  print(\"Splitting\", total_candies, \"candy\" if total_candies == 1 else \"candies\")"
      ],
      "execution_count": 16,
      "outputs": []
    },
    {
      "cell_type": "markdown",
      "metadata": {
        "id": "uwHJzlbTPqEq"
      },
      "source": [
        "3"
      ]
    },
    {
      "cell_type": "code",
      "metadata": {
        "colab": {
          "base_uri": "https://localhost:8080/"
        },
        "id": "TG7bAJSyPql8",
        "outputId": "db0e6bb4-1afd-4d1f-cb85-5eb7d3d0e96c"
      },
      "source": [
        "def prepared_for_weather(have_umbrella, rain_level, have_hood, is_workday):\n",
        "    # Don't change this code. Our goal is just to find the bug, not fix it!\n",
        "    return have_umbrella or rain_level < 5 and have_hood or not rain_level > 0 and is_workday\n",
        "\n",
        "# Change the values of these inputs so they represent a case where prepared_for_weather\n",
        "# returns the wrong answer.\n",
        "have_umbrella = False\n",
        "rain_level = 0.0\n",
        "have_hood = False\n",
        "is_workday = False\n",
        "\n",
        "# Check what the function returns given the current values of the variables above\n",
        "actual = prepared_for_weather(have_umbrella, rain_level, have_hood, is_workday)\n",
        "print(actual)"
      ],
      "execution_count": 17,
      "outputs": [
        {
          "output_type": "stream",
          "text": [
            "False\n"
          ],
          "name": "stdout"
        }
      ]
    },
    {
      "cell_type": "markdown",
      "metadata": {
        "id": "UT2aO3c4kA2O"
      },
      "source": [
        "\n",
        "\n",
        "---\n",
        "\n"
      ]
    },
    {
      "cell_type": "markdown",
      "metadata": {
        "id": "VZ5ycSWLkDXH"
      },
      "source": [
        "4"
      ]
    },
    {
      "cell_type": "code",
      "metadata": {
        "id": "CrwdWwX9kDyx"
      },
      "source": [
        "def is_negative(number):\n",
        "    if number < 0:\n",
        "        return True\n",
        "    else:\n",
        "        return False\n",
        "\n",
        "def concise_is_negative(number):\n",
        "    return number < 0"
      ],
      "execution_count": 18,
      "outputs": []
    },
    {
      "cell_type": "markdown",
      "metadata": {
        "id": "HWcXMYGS8bIB"
      },
      "source": [
        "\n",
        "\n",
        "---\n",
        "\n"
      ]
    },
    {
      "cell_type": "markdown",
      "metadata": {
        "id": "K5vlAxEL8bxu"
      },
      "source": [
        "5a"
      ]
    },
    {
      "cell_type": "code",
      "metadata": {
        "id": "rARFPd-n8cLD"
      },
      "source": [
        "def onionless(ketchup, mustard, onion):\n",
        "    \"\"\"Return whether the customer doesn't want onions.\n",
        "    \"\"\"\n",
        "    return not onion"
      ],
      "execution_count": null,
      "outputs": []
    },
    {
      "cell_type": "code",
      "metadata": {
        "id": "c0z-Ads48t9a"
      },
      "source": [
        "def wants_all_toppings(ketchup, mustard, onion):\n",
        "    \"\"\"Return whether the customer wants \"the works\" (all 3 toppings)\n",
        "    \"\"\"\n",
        "    return ketchup and mustard and onion"
      ],
      "execution_count": null,
      "outputs": []
    },
    {
      "cell_type": "markdown",
      "metadata": {
        "id": "oEXkGevg8wAG"
      },
      "source": [
        "\n",
        "\n",
        "---\n",
        "\n"
      ]
    },
    {
      "cell_type": "markdown",
      "metadata": {
        "id": "SQ1m49HG8whA"
      },
      "source": [
        "5b"
      ]
    },
    {
      "cell_type": "code",
      "metadata": {
        "id": "ukxOXiQF8w6G"
      },
      "source": [
        "def wants_plain_hotdog(ketchup, mustard, onion):\n",
        "    \"\"\"Return whether the customer wants a plain hot dog with no toppings.\n",
        "    \"\"\"\n",
        "    return (not ketchup) and (not mustard) and (not onion)"
      ],
      "execution_count": null,
      "outputs": []
    },
    {
      "cell_type": "code",
      "metadata": {
        "id": "asWDy8xd89pQ"
      },
      "source": [
        "def wants_plain_hotdog(ketchup, mustard, onion):\n",
        "    \"\"\"Return whether the customer wants a plain hot dog with no toppings.\n",
        "    \"\"\"\n",
        "    return not (ketchup or mustard or onion)"
      ],
      "execution_count": null,
      "outputs": []
    },
    {
      "cell_type": "markdown",
      "metadata": {
        "id": "BWhN8gnb9BwG"
      },
      "source": [
        "\n",
        "\n",
        "---\n",
        "\n"
      ]
    },
    {
      "cell_type": "markdown",
      "metadata": {
        "id": "qV4hixsr9CQ7"
      },
      "source": [
        "5c"
      ]
    },
    {
      "cell_type": "code",
      "metadata": {
        "id": "G4qftdO69Dw8"
      },
      "source": [
        "def exactly_one_sauce(ketchup, mustard, onion):\n",
        "    \"\"\"Return whether the customer wants either ketchup or mustard, but not both.\n",
        "    (You may be familiar with this operation under the name \"exclusive or\")\n",
        "    \"\"\"\n",
        "    return ketchup and not mustard or mustard and not ketchup"
      ],
      "execution_count": 19,
      "outputs": []
    },
    {
      "cell_type": "markdown",
      "metadata": {
        "id": "51Hl4YRp-3dl"
      },
      "source": [
        "\n",
        "\n",
        "---\n",
        "\n"
      ]
    },
    {
      "cell_type": "markdown",
      "metadata": {
        "id": "kYgP7ElZ-4IT"
      },
      "source": [
        "6"
      ]
    },
    {
      "cell_type": "code",
      "metadata": {
        "id": "6oqBN7Yb-4jX"
      },
      "source": [
        "def exactly_one_topping(ketchup, mustard, onion):\n",
        "    \"\"\"Return whether the customer wants exactly one of the three available toppings\n",
        "    on their hot dog.\n",
        "    \"\"\"\n",
        "    return (ketchup + mustard + onion) == 1"
      ],
      "execution_count": null,
      "outputs": []
    }
  ]
}