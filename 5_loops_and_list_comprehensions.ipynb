{
  "nbformat": 4,
  "nbformat_minor": 0,
  "metadata": {
    "colab": {
      "name": "5_loops and list comprehensions.ipynb",
      "provenance": [],
      "collapsed_sections": [],
      "authorship_tag": "ABX9TyN83dfTrj1MSR0rhueVTSjE",
      "include_colab_link": true
    },
    "kernelspec": {
      "name": "python3",
      "display_name": "Python 3"
    },
    "language_info": {
      "name": "python"
    }
  },
  "cells": [
    {
      "cell_type": "markdown",
      "metadata": {
        "id": "view-in-github",
        "colab_type": "text"
      },
      "source": [
        "<a href=\"https://colab.research.google.com/github/git933/Kaggle_ML/blob/main/5_loops_and_list_comprehensions.ipynb\" target=\"_parent\"><img src=\"https://colab.research.google.com/assets/colab-badge.svg\" alt=\"Open In Colab\"/></a>"
      ]
    },
    {
      "cell_type": "markdown",
      "metadata": {
        "id": "SxIFkqwIluiI"
      },
      "source": [
        "# loops"
      ]
    },
    {
      "cell_type": "code",
      "metadata": {
        "colab": {
          "base_uri": "https://localhost:8080/"
        },
        "id": "CKTfuxymlcEg",
        "outputId": "334790f5-0d76-4830-f972-215e3441c6ff"
      },
      "source": [
        "planets = ['Mercury', 'Venus', 'Earth', 'Mars', 'Jupiter', 'Saturn', 'Uranus', 'Neptune']\n",
        "for planet in planets:\n",
        "  print(planet, end = ' ')"
      ],
      "execution_count": 1,
      "outputs": [
        {
          "output_type": "stream",
          "text": [
            "Mercury Venus Earth Mars Jupiter Saturn Uranus Neptune "
          ],
          "name": "stdout"
        }
      ]
    },
    {
      "cell_type": "code",
      "metadata": {
        "colab": {
          "base_uri": "https://localhost:8080/"
        },
        "id": "104AKkFumLnj",
        "outputId": "27664254-4f7f-4b09-fade-7651806ad014"
      },
      "source": [
        "multiplicands = (2, 2, 2, 3, 3, 5)\n",
        "product = 1\n",
        "for mult in multiplicands:\n",
        "  product = product * mult\n",
        "\n",
        "product"
      ],
      "execution_count": 2,
      "outputs": [
        {
          "output_type": "execute_result",
          "data": {
            "text/plain": [
              "360"
            ]
          },
          "metadata": {},
          "execution_count": 2
        }
      ]
    },
    {
      "cell_type": "code",
      "metadata": {
        "colab": {
          "base_uri": "https://localhost:8080/"
        },
        "id": "FjU-kHJYmW_I",
        "outputId": "a71e21cc-7470-480a-db2c-1f1b628a711f"
      },
      "source": [
        "s = 'steganograpHy is the practicE of conceaLing a file, message, image, or video within another fiLe, message, image, Or video.'\n",
        "msg = ''\n",
        "\n",
        "for char in s:\n",
        "  if char.isupper():\n",
        "    print(char, end = '')"
      ],
      "execution_count": 4,
      "outputs": [
        {
          "output_type": "stream",
          "text": [
            "HELLO"
          ],
          "name": "stdout"
        }
      ]
    },
    {
      "cell_type": "markdown",
      "metadata": {
        "id": "sU8J8qoInni0"
      },
      "source": [
        "**range**"
      ]
    },
    {
      "cell_type": "code",
      "metadata": {
        "colab": {
          "base_uri": "https://localhost:8080/"
        },
        "id": "ZbkR6jxHnpuB",
        "outputId": "b59ab1c7-e4be-449f-a79a-031ce59be32b"
      },
      "source": [
        "for i in range(5):\n",
        "  print(\"Doing important work. i = \", i)"
      ],
      "execution_count": 5,
      "outputs": [
        {
          "output_type": "stream",
          "text": [
            "Doing important work. i =  0\n",
            "Doing important work. i =  1\n",
            "Doing important work. i =  2\n",
            "Doing important work. i =  3\n",
            "Doing important work. i =  4\n"
          ],
          "name": "stdout"
        }
      ]
    },
    {
      "cell_type": "markdown",
      "metadata": {
        "id": "zJ1nBP3NnuGR"
      },
      "source": [
        "**while loops**"
      ]
    },
    {
      "cell_type": "code",
      "metadata": {
        "colab": {
          "base_uri": "https://localhost:8080/"
        },
        "id": "F5c6PrWunvZR",
        "outputId": "b72c8bf2-6ab5-413e-beea-d52a7c768bc6"
      },
      "source": [
        "i = 0\n",
        "while i < 10:\n",
        "  print(i, end = ' ')\n",
        "  i += 1"
      ],
      "execution_count": 6,
      "outputs": [
        {
          "output_type": "stream",
          "text": [
            "0 1 2 3 4 5 6 7 8 9 "
          ],
          "name": "stdout"
        }
      ]
    },
    {
      "cell_type": "markdown",
      "metadata": {
        "id": "ycKLdX2Qn0dh"
      },
      "source": [
        "\n",
        "\n",
        "---\n",
        "\n"
      ]
    },
    {
      "cell_type": "markdown",
      "metadata": {
        "id": "upukLppen05g"
      },
      "source": [
        "# list comprehensions"
      ]
    },
    {
      "cell_type": "code",
      "metadata": {
        "colab": {
          "base_uri": "https://localhost:8080/"
        },
        "id": "LHflofW9n3AK",
        "outputId": "4e24ba47-9b0e-4058-b754-fc081582297a"
      },
      "source": [
        "squares = [n ** 2 for n in range(10)]\n",
        "squares"
      ],
      "execution_count": 7,
      "outputs": [
        {
          "output_type": "execute_result",
          "data": {
            "text/plain": [
              "[0, 1, 4, 9, 16, 25, 36, 49, 64, 81]"
            ]
          },
          "metadata": {},
          "execution_count": 7
        }
      ]
    },
    {
      "cell_type": "code",
      "metadata": {
        "colab": {
          "base_uri": "https://localhost:8080/"
        },
        "id": "umzf4MDmn7Xn",
        "outputId": "aa9ba00c-7467-4d49-f2c5-b42c1ffa8fb6"
      },
      "source": [
        "squares = []\n",
        "for n in range(10):\n",
        "  squares.append(n ** 2)\n",
        "squares"
      ],
      "execution_count": 8,
      "outputs": [
        {
          "output_type": "execute_result",
          "data": {
            "text/plain": [
              "[0, 1, 4, 9, 16, 25, 36, 49, 64, 81]"
            ]
          },
          "metadata": {},
          "execution_count": 8
        }
      ]
    },
    {
      "cell_type": "code",
      "metadata": {
        "colab": {
          "base_uri": "https://localhost:8080/"
        },
        "id": "asncdPGIoADO",
        "outputId": "10c68ef3-94dc-4a7c-b2c0-891c35a67c5e"
      },
      "source": [
        "short_planets = [planet for planet in planets if len(planet) < 6]\n",
        "short_planets"
      ],
      "execution_count": 9,
      "outputs": [
        {
          "output_type": "execute_result",
          "data": {
            "text/plain": [
              "['Venus', 'Earth', 'Mars']"
            ]
          },
          "metadata": {},
          "execution_count": 9
        }
      ]
    },
    {
      "cell_type": "code",
      "metadata": {
        "colab": {
          "base_uri": "https://localhost:8080/"
        },
        "id": "KcubbWneoKUn",
        "outputId": "4997fcbd-bf67-4bc0-e66d-02f3512d3fdf"
      },
      "source": [
        "loud_short_planets = [planet.upper() + '!' for planet in planets if len(planet) < 6]\n",
        "loud_short_planets"
      ],
      "execution_count": 10,
      "outputs": [
        {
          "output_type": "execute_result",
          "data": {
            "text/plain": [
              "['VENUS!', 'EARTH!', 'MARS!']"
            ]
          },
          "metadata": {},
          "execution_count": 10
        }
      ]
    },
    {
      "cell_type": "code",
      "metadata": {
        "colab": {
          "base_uri": "https://localhost:8080/"
        },
        "id": "gumvQvEDoUyo",
        "outputId": "b813a367-1fff-4ce1-c4a5-7899ed6e28fe"
      },
      "source": [
        "[32 for planet in planets]"
      ],
      "execution_count": 11,
      "outputs": [
        {
          "output_type": "execute_result",
          "data": {
            "text/plain": [
              "[32, 32, 32, 32, 32, 32, 32, 32]"
            ]
          },
          "metadata": {},
          "execution_count": 11
        }
      ]
    },
    {
      "cell_type": "code",
      "metadata": {
        "id": "Q2t0dTm1ocOo"
      },
      "source": [
        "def count_negatives(nums):\n",
        "  \"\"\"\n",
        "  return the number of negative numbers in the given list.\n",
        "  >>> count_negatives([5, -1, -2, 0, 3])\n",
        "  2\n",
        "  \"\"\"\n",
        "  n_negative = 0\n",
        "  for num in nums:\n",
        "    if num < 0:\n",
        "      n_negative = n_negative + 1\n",
        "  return n_negative"
      ],
      "execution_count": 12,
      "outputs": []
    },
    {
      "cell_type": "code",
      "metadata": {
        "id": "LeeIh-F6qAxu"
      },
      "source": [
        "def count_negatives(nums):\n",
        "  return len([num for num in nums if num < 0])"
      ],
      "execution_count": 13,
      "outputs": []
    },
    {
      "cell_type": "code",
      "metadata": {
        "id": "Ac8Xyr-sqS2X"
      },
      "source": [
        "def count_negatives(nums):\n",
        "  return sum([num < 0 for num in nums])"
      ],
      "execution_count": 14,
      "outputs": []
    },
    {
      "cell_type": "markdown",
      "metadata": {
        "id": "VcQnUgqmqd0l"
      },
      "source": [
        "\n",
        "\n",
        "---\n",
        "\n"
      ]
    },
    {
      "cell_type": "markdown",
      "metadata": {
        "id": "BfA4kPvIqeiY"
      },
      "source": [
        "# exercise"
      ]
    },
    {
      "cell_type": "markdown",
      "metadata": {
        "id": "_7hk_pWOqf4a"
      },
      "source": [
        "1"
      ]
    },
    {
      "cell_type": "code",
      "metadata": {
        "id": "EqIE8js3qgLS"
      },
      "source": [
        "def has_lucky_number(nums):\n",
        "    \"\"\"Return whether the given list of numbers is lucky. A lucky list contains\n",
        "    at least one number divisible by 7.\n",
        "    \"\"\"\n",
        "    for num in nums:\n",
        "        if num % 7 == 0:\n",
        "            return True\n",
        "    return False"
      ],
      "execution_count": 15,
      "outputs": []
    },
    {
      "cell_type": "markdown",
      "metadata": {
        "id": "b2IuH6tDyWIh"
      },
      "source": [
        "**return** causes a function to exit immediately"
      ]
    },
    {
      "cell_type": "code",
      "metadata": {
        "id": "m1xHBMpVyfo9"
      },
      "source": [
        "def has_lucky_number(nums):\n",
        "    return any([num % 7 == 0 for num in nums])"
      ],
      "execution_count": 17,
      "outputs": []
    },
    {
      "cell_type": "code",
      "metadata": {
        "colab": {
          "base_uri": "https://localhost:8080/"
        },
        "id": "AB_IZVDtygI8",
        "outputId": "c4b11cd6-5f98-43f0-f22a-441e0aa50158"
      },
      "source": [
        "help(any)"
      ],
      "execution_count": 16,
      "outputs": [
        {
          "output_type": "stream",
          "text": [
            "Help on built-in function any in module builtins:\n",
            "\n",
            "any(iterable, /)\n",
            "    Return True if bool(x) is True for any x in the iterable.\n",
            "    \n",
            "    If the iterable is empty, return False.\n",
            "\n"
          ],
          "name": "stdout"
        }
      ]
    },
    {
      "cell_type": "markdown",
      "metadata": {
        "id": "fJeRDLYyyakd"
      },
      "source": [
        "2"
      ]
    },
    {
      "cell_type": "code",
      "metadata": {
        "id": "iVefIjQlya7N"
      },
      "source": [
        "def elementwise_greater_than(L, thresh):\n",
        "    \"\"\"Return a list with the same length as L, where the value at index i is \n",
        "    True if L[i] is greater than thresh, and False otherwise.\n",
        "    \n",
        "    >>> elementwise_greater_than([1, 2, 3, 4], 2)\n",
        "    [False, False, True, True]\n",
        "    \"\"\"\n",
        "    li = []\n",
        "    for i in L:\n",
        "        li.append(i > thresh)\n",
        "    return li"
      ],
      "execution_count": 18,
      "outputs": []
    },
    {
      "cell_type": "code",
      "metadata": {
        "id": "JOZXcAhC2QvL"
      },
      "source": [
        "def elementwise_greater_than(L, thresh):\n",
        "    return [ele > thresh for ele in L]"
      ],
      "execution_count": 19,
      "outputs": []
    },
    {
      "cell_type": "markdown",
      "metadata": {
        "id": "3ZHxCUFe2Tfb"
      },
      "source": [
        "3"
      ]
    },
    {
      "cell_type": "code",
      "metadata": {
        "id": "Xre6Ah2P2T2R"
      },
      "source": [
        "def menu_is_boring(meals):\n",
        "    \"\"\"Given a list of meals served over some period of time, return True if the\n",
        "    same meal has ever been served two days in a row, and False otherwise.\n",
        "    \"\"\"\n",
        "    for i in range(len(meals) - 1):\n",
        "        if meals[i] == meals [i + 1]:\n",
        "            return True\n",
        "    return False"
      ],
      "execution_count": 20,
      "outputs": []
    }
  ]
}